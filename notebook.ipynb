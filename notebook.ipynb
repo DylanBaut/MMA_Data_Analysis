{
 "cells": [
  {
   "cell_type": "code",
   "execution_count": 5,
   "metadata": {},
   "outputs": [],
   "source": [
    "import numpy as np\n",
    "import pandas as pd\n",
    "from unidecode import unidecode\n",
    "from difflib import SequenceMatcher"
   ]
  },
  {
   "attachments": {},
   "cell_type": "markdown",
   "metadata": {},
   "source": [
    "One of the most contentious and seemingly arbitrary aspects of the sport of mixed martial arts is judging decisions. If you're not familiar, every fight is either 3 or 5 rounds, and if a finish isnt achieved within the time limit, 3 judges will have judged each individual round. Each round is based off of a 10 point must system, awarding the chosen winner 10 and the loser less than 10.\n",
    "\n",
    "Judging has been critisized by fans and fighters alike due to the vagueness of how much factors like damage, control time, grappling, octogon control, etc. are actually valued in an assessment of a round. The goal of this project is to analyze historical data across all UFC rounds, in addition to fan/media agreement on decisions. \n",
    "\n",
    "This notebook takes data from python code that web srapes two sites: mmadecisions.com (for decisions/ fan and media scoring) and UFCstats.com (for round by round statistics). These scripts utilizes microprocessing to optimize the time it takes to gether all the information. We start by converting the combined csv files to a 103x2306 dataframe."
   ]
  },
  {
   "cell_type": "code",
   "execution_count": 6,
   "metadata": {},
   "outputs": [
    {
     "data": {
      "text/html": [
       "<div>\n",
       "<style scoped>\n",
       "    .dataframe tbody tr th:only-of-type {\n",
       "        vertical-align: middle;\n",
       "    }\n",
       "\n",
       "    .dataframe tbody tr th {\n",
       "        vertical-align: top;\n",
       "    }\n",
       "\n",
       "    .dataframe thead th {\n",
       "        text-align: right;\n",
       "    }\n",
       "</style>\n",
       "<table border=\"1\" class=\"dataframe\">\n",
       "  <thead>\n",
       "    <tr style=\"text-align: right;\">\n",
       "      <th></th>\n",
       "      <th>Number_of_Rounds</th>\n",
       "      <th>Opponent_A_Wins</th>\n",
       "      <th>Method</th>\n",
       "      <th>Opponent_A</th>\n",
       "      <th>Total_Strikes_Attempted_(A)</th>\n",
       "      <th>Round_1_Sig_Strikes_Attempted_(A)</th>\n",
       "      <th>Round_1_Sig_Strikes_Landed_(A)</th>\n",
       "      <th>Round_1_KD_(A)</th>\n",
       "      <th>Round_1_TD_(A)</th>\n",
       "      <th>Round_1_Sub_Attempts_(A)</th>\n",
       "      <th>...</th>\n",
       "      <th>Rd2C</th>\n",
       "      <th>Rd3C</th>\n",
       "      <th>Rd4C</th>\n",
       "      <th>Rd5C</th>\n",
       "      <th>Media score ratio of agreement</th>\n",
       "      <th>Rd1 Fans</th>\n",
       "      <th>Rd2 Fans</th>\n",
       "      <th>Rd3 Fans</th>\n",
       "      <th>Rd4 Fans</th>\n",
       "      <th>Rd5 Fans</th>\n",
       "    </tr>\n",
       "  </thead>\n",
       "  <tbody>\n",
       "    <tr>\n",
       "      <th>0</th>\n",
       "      <td>5</td>\n",
       "      <td>1</td>\n",
       "      <td>2</td>\n",
       "      <td>Mackenzie Dern</td>\n",
       "      <td>340</td>\n",
       "      <td>42</td>\n",
       "      <td>23</td>\n",
       "      <td>1</td>\n",
       "      <td>0</td>\n",
       "      <td>0</td>\n",
       "      <td>...</td>\n",
       "      <td>-1</td>\n",
       "      <td>2</td>\n",
       "      <td>1</td>\n",
       "      <td>2</td>\n",
       "      <td>1.0</td>\n",
       "      <td>1.622</td>\n",
       "      <td>-0.828</td>\n",
       "      <td>2.043</td>\n",
       "      <td>0.926</td>\n",
       "      <td>1.741</td>\n",
       "    </tr>\n",
       "    <tr>\n",
       "      <th>1</th>\n",
       "      <td>3</td>\n",
       "      <td>1</td>\n",
       "      <td>2</td>\n",
       "      <td>Karolina Kowalkiewicz</td>\n",
       "      <td>249</td>\n",
       "      <td>84</td>\n",
       "      <td>42</td>\n",
       "      <td>0</td>\n",
       "      <td>0</td>\n",
       "      <td>0</td>\n",
       "      <td>...</td>\n",
       "      <td>1</td>\n",
       "      <td>1</td>\n",
       "      <td>--</td>\n",
       "      <td>--</td>\n",
       "      <td>1.0</td>\n",
       "      <td>NaN</td>\n",
       "      <td>NaN</td>\n",
       "      <td>NaN</td>\n",
       "      <td>NaN</td>\n",
       "      <td>NaN</td>\n",
       "    </tr>\n",
       "    <tr>\n",
       "      <th>2</th>\n",
       "      <td>3</td>\n",
       "      <td>0</td>\n",
       "      <td>3</td>\n",
       "      <td>Ilir Latifi</td>\n",
       "      <td>105</td>\n",
       "      <td>44</td>\n",
       "      <td>28</td>\n",
       "      <td>0</td>\n",
       "      <td>0</td>\n",
       "      <td>0</td>\n",
       "      <td>...</td>\n",
       "      <td>-1</td>\n",
       "      <td>-1</td>\n",
       "      <td>--</td>\n",
       "      <td>--</td>\n",
       "      <td>0.923</td>\n",
       "      <td>0.842</td>\n",
       "      <td>-0.684</td>\n",
       "      <td>0.316</td>\n",
       "      <td>NaN</td>\n",
       "      <td>NaN</td>\n",
       "    </tr>\n",
       "    <tr>\n",
       "      <th>3</th>\n",
       "      <td>3</td>\n",
       "      <td>1</td>\n",
       "      <td>2</td>\n",
       "      <td>Chase Hooper</td>\n",
       "      <td>340</td>\n",
       "      <td>101</td>\n",
       "      <td>60</td>\n",
       "      <td>0</td>\n",
       "      <td>0</td>\n",
       "      <td>0</td>\n",
       "      <td>...</td>\n",
       "      <td>1</td>\n",
       "      <td>1</td>\n",
       "      <td>--</td>\n",
       "      <td>--</td>\n",
       "      <td>1.0</td>\n",
       "      <td>1.267</td>\n",
       "      <td>0.999</td>\n",
       "      <td>1.001</td>\n",
       "      <td>NaN</td>\n",
       "      <td>NaN</td>\n",
       "    </tr>\n",
       "    <tr>\n",
       "      <th>4</th>\n",
       "      <td>3</td>\n",
       "      <td>0</td>\n",
       "      <td>2</td>\n",
       "      <td>Takashi Sato</td>\n",
       "      <td>76</td>\n",
       "      <td>8</td>\n",
       "      <td>3</td>\n",
       "      <td>0</td>\n",
       "      <td>1</td>\n",
       "      <td>0</td>\n",
       "      <td>...</td>\n",
       "      <td>1</td>\n",
       "      <td>1</td>\n",
       "      <td>--</td>\n",
       "      <td>--</td>\n",
       "      <td>1.0</td>\n",
       "      <td>NaN</td>\n",
       "      <td>NaN</td>\n",
       "      <td>NaN</td>\n",
       "      <td>NaN</td>\n",
       "      <td>NaN</td>\n",
       "    </tr>\n",
       "    <tr>\n",
       "      <th>5</th>\n",
       "      <td>3</td>\n",
       "      <td>0</td>\n",
       "      <td>2</td>\n",
       "      <td>Anthony Smith</td>\n",
       "      <td>95</td>\n",
       "      <td>22</td>\n",
       "      <td>10</td>\n",
       "      <td>0</td>\n",
       "      <td>1</td>\n",
       "      <td>0</td>\n",
       "      <td>...</td>\n",
       "      <td>-1</td>\n",
       "      <td>1</td>\n",
       "      <td>--</td>\n",
       "      <td>--</td>\n",
       "      <td>1.0</td>\n",
       "      <td>0.955</td>\n",
       "      <td>0.254</td>\n",
       "      <td>1.150</td>\n",
       "      <td>NaN</td>\n",
       "      <td>NaN</td>\n",
       "    </tr>\n",
       "    <tr>\n",
       "      <th>6</th>\n",
       "      <td>3</td>\n",
       "      <td>1</td>\n",
       "      <td>2</td>\n",
       "      <td>Karl Williams</td>\n",
       "      <td>191</td>\n",
       "      <td>43</td>\n",
       "      <td>19</td>\n",
       "      <td>0</td>\n",
       "      <td>1</td>\n",
       "      <td>0</td>\n",
       "      <td>...</td>\n",
       "      <td>-1</td>\n",
       "      <td>1</td>\n",
       "      <td>--</td>\n",
       "      <td>--</td>\n",
       "      <td>1.0</td>\n",
       "      <td>0.914</td>\n",
       "      <td>-0.392</td>\n",
       "      <td>-0.044</td>\n",
       "      <td>NaN</td>\n",
       "      <td>NaN</td>\n",
       "    </tr>\n",
       "    <tr>\n",
       "      <th>7</th>\n",
       "      <td>3</td>\n",
       "      <td>0</td>\n",
       "      <td>2</td>\n",
       "      <td>Cody Stamann</td>\n",
       "      <td>152</td>\n",
       "      <td>39</td>\n",
       "      <td>14</td>\n",
       "      <td>0</td>\n",
       "      <td>1</td>\n",
       "      <td>0</td>\n",
       "      <td>...</td>\n",
       "      <td>1</td>\n",
       "      <td>-1</td>\n",
       "      <td>--</td>\n",
       "      <td>--</td>\n",
       "      <td>0.714</td>\n",
       "      <td>0.531</td>\n",
       "      <td>0.698</td>\n",
       "      <td>-1.094</td>\n",
       "      <td>NaN</td>\n",
       "      <td>NaN</td>\n",
       "    </tr>\n",
       "    <tr>\n",
       "      <th>8</th>\n",
       "      <td>3</td>\n",
       "      <td>0</td>\n",
       "      <td>3</td>\n",
       "      <td>Ji Yeon Kim</td>\n",
       "      <td>62</td>\n",
       "      <td>5</td>\n",
       "      <td>1</td>\n",
       "      <td>0</td>\n",
       "      <td>0</td>\n",
       "      <td>0</td>\n",
       "      <td>...</td>\n",
       "      <td>-1</td>\n",
       "      <td>-1</td>\n",
       "      <td>--</td>\n",
       "      <td>--</td>\n",
       "      <td>0.091</td>\n",
       "      <td>-0.696</td>\n",
       "      <td>0.033</td>\n",
       "      <td>0.043</td>\n",
       "      <td>NaN</td>\n",
       "      <td>NaN</td>\n",
       "    </tr>\n",
       "    <tr>\n",
       "      <th>9</th>\n",
       "      <td>5</td>\n",
       "      <td>1</td>\n",
       "      <td>3</td>\n",
       "      <td>Aljamain Sterling</td>\n",
       "      <td>261</td>\n",
       "      <td>34</td>\n",
       "      <td>20</td>\n",
       "      <td>0</td>\n",
       "      <td>2</td>\n",
       "      <td>0</td>\n",
       "      <td>...</td>\n",
       "      <td>1</td>\n",
       "      <td>-1</td>\n",
       "      <td>1</td>\n",
       "      <td>-1</td>\n",
       "      <td>0.913</td>\n",
       "      <td>0.904</td>\n",
       "      <td>-0.330</td>\n",
       "      <td>-0.167</td>\n",
       "      <td>0.826</td>\n",
       "      <td>-0.890</td>\n",
       "    </tr>\n",
       "    <tr>\n",
       "      <th>10</th>\n",
       "      <td>5</td>\n",
       "      <td>1</td>\n",
       "      <td>2</td>\n",
       "      <td>Belal Muhammad</td>\n",
       "      <td>283</td>\n",
       "      <td>39</td>\n",
       "      <td>19</td>\n",
       "      <td>0</td>\n",
       "      <td>0</td>\n",
       "      <td>0</td>\n",
       "      <td>...</td>\n",
       "      <td>1</td>\n",
       "      <td>1</td>\n",
       "      <td>1</td>\n",
       "      <td>-1</td>\n",
       "      <td>1.0</td>\n",
       "      <td>0.901</td>\n",
       "      <td>0.388</td>\n",
       "      <td>0.868</td>\n",
       "      <td>0.572</td>\n",
       "      <td>0.730</td>\n",
       "    </tr>\n",
       "    <tr>\n",
       "      <th>11</th>\n",
       "      <td>3</td>\n",
       "      <td>1</td>\n",
       "      <td>2</td>\n",
       "      <td>Movsar Evloev</td>\n",
       "      <td>228</td>\n",
       "      <td>22</td>\n",
       "      <td>16</td>\n",
       "      <td>0</td>\n",
       "      <td>1</td>\n",
       "      <td>0</td>\n",
       "      <td>...</td>\n",
       "      <td>1</td>\n",
       "      <td>1</td>\n",
       "      <td>--</td>\n",
       "      <td>--</td>\n",
       "      <td>1.0</td>\n",
       "      <td>-0.677</td>\n",
       "      <td>1.056</td>\n",
       "      <td>0.087</td>\n",
       "      <td>NaN</td>\n",
       "      <td>NaN</td>\n",
       "    </tr>\n",
       "    <tr>\n",
       "      <th>12</th>\n",
       "      <td>3</td>\n",
       "      <td>0</td>\n",
       "      <td>2</td>\n",
       "      <td>Kron Gracie</td>\n",
       "      <td>216</td>\n",
       "      <td>22</td>\n",
       "      <td>12</td>\n",
       "      <td>0</td>\n",
       "      <td>0</td>\n",
       "      <td>0</td>\n",
       "      <td>...</td>\n",
       "      <td>1</td>\n",
       "      <td>1</td>\n",
       "      <td>--</td>\n",
       "      <td>--</td>\n",
       "      <td>1.0</td>\n",
       "      <td>0.999</td>\n",
       "      <td>1.032</td>\n",
       "      <td>1.046</td>\n",
       "      <td>NaN</td>\n",
       "      <td>NaN</td>\n",
       "    </tr>\n",
       "    <tr>\n",
       "      <th>13</th>\n",
       "      <td>3</td>\n",
       "      <td>1</td>\n",
       "      <td>3</td>\n",
       "      <td>Khaos Williams</td>\n",
       "      <td>284</td>\n",
       "      <td>88</td>\n",
       "      <td>44</td>\n",
       "      <td>0</td>\n",
       "      <td>0</td>\n",
       "      <td>0</td>\n",
       "      <td>...</td>\n",
       "      <td>-1</td>\n",
       "      <td>-1</td>\n",
       "      <td>--</td>\n",
       "      <td>--</td>\n",
       "      <td>0.533</td>\n",
       "      <td>0.415</td>\n",
       "      <td>-0.250</td>\n",
       "      <td>-0.929</td>\n",
       "      <td>NaN</td>\n",
       "      <td>NaN</td>\n",
       "    </tr>\n",
       "    <tr>\n",
       "      <th>14</th>\n",
       "      <td>3</td>\n",
       "      <td>1</td>\n",
       "      <td>2</td>\n",
       "      <td>Marcos Rogerio de Lima</td>\n",
       "      <td>95</td>\n",
       "      <td>34</td>\n",
       "      <td>27</td>\n",
       "      <td>0</td>\n",
       "      <td>1</td>\n",
       "      <td>0</td>\n",
       "      <td>...</td>\n",
       "      <td>1</td>\n",
       "      <td>-1</td>\n",
       "      <td>--</td>\n",
       "      <td>--</td>\n",
       "      <td>1.0</td>\n",
       "      <td>NaN</td>\n",
       "      <td>NaN</td>\n",
       "      <td>NaN</td>\n",
       "      <td>NaN</td>\n",
       "      <td>NaN</td>\n",
       "    </tr>\n",
       "  </tbody>\n",
       "</table>\n",
       "<p>15 rows × 103 columns</p>\n",
       "</div>"
      ],
      "text/plain": [
       "    Number_of_Rounds  Opponent_A_Wins  Method              Opponent_A   \n",
       "0                  5                1       2          Mackenzie Dern  \\\n",
       "1                  3                1       2   Karolina Kowalkiewicz   \n",
       "2                  3                0       3             Ilir Latifi   \n",
       "3                  3                1       2            Chase Hooper   \n",
       "4                  3                0       2            Takashi Sato   \n",
       "5                  3                0       2           Anthony Smith   \n",
       "6                  3                1       2           Karl Williams   \n",
       "7                  3                0       2            Cody Stamann   \n",
       "8                  3                0       3             Ji Yeon Kim   \n",
       "9                  5                1       3       Aljamain Sterling   \n",
       "10                 5                1       2          Belal Muhammad   \n",
       "11                 3                1       2           Movsar Evloev   \n",
       "12                 3                0       2             Kron Gracie   \n",
       "13                 3                1       3          Khaos Williams   \n",
       "14                 3                1       2  Marcos Rogerio de Lima   \n",
       "\n",
       "    Total_Strikes_Attempted_(A)  Round_1_Sig_Strikes_Attempted_(A)   \n",
       "0                           340                                 42  \\\n",
       "1                           249                                 84   \n",
       "2                           105                                 44   \n",
       "3                           340                                101   \n",
       "4                            76                                  8   \n",
       "5                            95                                 22   \n",
       "6                           191                                 43   \n",
       "7                           152                                 39   \n",
       "8                            62                                  5   \n",
       "9                           261                                 34   \n",
       "10                          283                                 39   \n",
       "11                          228                                 22   \n",
       "12                          216                                 22   \n",
       "13                          284                                 88   \n",
       "14                           95                                 34   \n",
       "\n",
       "    Round_1_Sig_Strikes_Landed_(A)  Round_1_KD_(A)  Round_1_TD_(A)   \n",
       "0                               23               1               0  \\\n",
       "1                               42               0               0   \n",
       "2                               28               0               0   \n",
       "3                               60               0               0   \n",
       "4                                3               0               1   \n",
       "5                               10               0               1   \n",
       "6                               19               0               1   \n",
       "7                               14               0               1   \n",
       "8                                1               0               0   \n",
       "9                               20               0               2   \n",
       "10                              19               0               0   \n",
       "11                              16               0               1   \n",
       "12                              12               0               0   \n",
       "13                              44               0               0   \n",
       "14                              27               0               1   \n",
       "\n",
       "    Round_1_Sub_Attempts_(A)  ... Rd2C  Rd3C  Rd4C  Rd5C   \n",
       "0                          0  ...   -1     2     1     2  \\\n",
       "1                          0  ...    1     1    --    --   \n",
       "2                          0  ...   -1    -1    --    --   \n",
       "3                          0  ...    1     1    --    --   \n",
       "4                          0  ...    1     1    --    --   \n",
       "5                          0  ...   -1     1    --    --   \n",
       "6                          0  ...   -1     1    --    --   \n",
       "7                          0  ...    1    -1    --    --   \n",
       "8                          0  ...   -1    -1    --    --   \n",
       "9                          0  ...    1    -1     1    -1   \n",
       "10                         0  ...    1     1     1    -1   \n",
       "11                         0  ...    1     1    --    --   \n",
       "12                         0  ...    1     1    --    --   \n",
       "13                         0  ...   -1    -1    --    --   \n",
       "14                         0  ...    1    -1    --    --   \n",
       "\n",
       "    Media score ratio of agreement  Rd1 Fans  Rd2 Fans Rd3 Fans  Rd4 Fans   \n",
       "0                              1.0     1.622    -0.828    2.043     0.926  \\\n",
       "1                              1.0       NaN       NaN      NaN       NaN   \n",
       "2                            0.923     0.842    -0.684    0.316       NaN   \n",
       "3                              1.0     1.267     0.999    1.001       NaN   \n",
       "4                              1.0       NaN       NaN      NaN       NaN   \n",
       "5                              1.0     0.955     0.254    1.150       NaN   \n",
       "6                              1.0     0.914    -0.392   -0.044       NaN   \n",
       "7                            0.714     0.531     0.698   -1.094       NaN   \n",
       "8                            0.091    -0.696     0.033    0.043       NaN   \n",
       "9                            0.913     0.904    -0.330   -0.167     0.826   \n",
       "10                             1.0     0.901     0.388    0.868     0.572   \n",
       "11                             1.0    -0.677     1.056    0.087       NaN   \n",
       "12                             1.0     0.999     1.032    1.046       NaN   \n",
       "13                           0.533     0.415    -0.250   -0.929       NaN   \n",
       "14                             1.0       NaN       NaN      NaN       NaN   \n",
       "\n",
       "    Rd5 Fans  \n",
       "0      1.741  \n",
       "1        NaN  \n",
       "2        NaN  \n",
       "3        NaN  \n",
       "4        NaN  \n",
       "5        NaN  \n",
       "6        NaN  \n",
       "7        NaN  \n",
       "8        NaN  \n",
       "9     -0.890  \n",
       "10     0.730  \n",
       "11       NaN  \n",
       "12       NaN  \n",
       "13       NaN  \n",
       "14       NaN  \n",
       "\n",
       "[15 rows x 103 columns]"
      ]
     },
     "execution_count": 6,
     "metadata": {},
     "output_type": "execute_result"
    }
   ],
   "source": [
    "UFC_df = pd.read_csv('output.csv')\n",
    "UFC_df.head(15)\n",
    "#method: 0= KO/TKO, 1= Submission, 2 =Unanimous decision, 3=Split decision, 4=NC/DRAW"
   ]
  },
  {
   "attachments": {},
   "cell_type": "markdown",
   "metadata": {},
   "source": [
    "First, the data needs to be cleansed, to store the data in rows of 8 as individual round statistics for the round winner instead of total fight statistics."
   ]
  },
  {
   "cell_type": "code",
   "execution_count": 7,
   "metadata": {},
   "outputs": [],
   "source": [
    "import seaborn as sns\n",
    "import matplotlib.pyplot as plt\n",
    "\n",
    "def get_sec(time_str):\n",
    "    m, s = time_str.split(':')\n",
    "    return int(m) * 60 + int(s)\n",
    "new_columns =[ 'Round score', 'Sig_Strikes_Attempted','Sig_Strikes_Attempted_Opp', 'Sig_Strikes_Landed','Sig_Strikes_Landed_Opp','KD','KD_Opp','TD','TD_Opp','Sub_Attempts','Sub_Attempts_Opp','Ctrl_Time','Ctrl_Time_Opp','Head_Strikes', 'Head_Strikes_Opp']\n",
    "fans_columns =['fan score']\n",
    "rounds_df = pd.DataFrame(columns=new_columns)\n",
    "fans_df = pd.DataFrame(columns=fans_columns)\n",
    "for rowtuple in UFC_df.itertuples():\n",
    "    row= list(rowtuple)[1:]\n",
    "    list1 =[int(row [82]),int(row [87]), int(row [92])]\n",
    "    round1avg = max(set(list1), key=list1.count)\n",
    "    \n",
    "    list2 =[int(row [83]),int(row [88]), int(row [93])]\n",
    "    round2avg = max(set(list2), key=list2.count)\n",
    "\n",
    "    list3 =[int(row [84]),int(row [89]), int(row [94])]\n",
    "    round3avg = max(set(list3), key=list3.count)\n",
    "\n",
    "    if((row[85] != 'nan') & (row[85] != '--')):\n",
    "        list4 =[int(row [85]),int(row [90]), int(row [95])]\n",
    "        round4avg = max(set(list4), key=list4.count)\n",
    "        list5 =[int(row [86]),int(row [91]), int(row [96])]\n",
    "        round5avg = max(set(list5), key=list5.count)\n",
    "\n",
    "    else:\n",
    "        round4avg ='skip'\n",
    "        round5avg ='skip'\n",
    "\n",
    "    round1infoA = row[5:12]\n",
    "    round2infoA = row[12:19]\n",
    "    round3infoA = row[19:26]\n",
    "    round4infoA = row[26:33]\n",
    "    round5infoA = row[33:40]\n",
    "\n",
    "    round1infoB = row[42:49]\n",
    "    round2infoB = row[49:56]\n",
    "    round3infoB = row[56:63]\n",
    "    round4infoB = row[63:70]\n",
    "    round5infoB = row[70:77]\n",
    "\n",
    "    if(row[80]=='DRAW'):\n",
    "        if(  SequenceMatcher(a=unidecode(row[81]).lower(), b=unidecode(row[3]).lower()).ratio() >=0.8):\n",
    "            templist =[round1infoA,round2infoA,round3infoA,round4infoA,round5infoA,\n",
    "                    round1infoB,round2infoB,round3infoB,round4infoB,round5infoB]\n",
    "        else:\n",
    "            templist =[round1infoB,round2infoB,round3infoB,round4infoB,round5infoB,\n",
    "                    round1infoA,round2infoA,round3infoA,round4infoA,round5infoA,]\n",
    "    else:\n",
    "        if (int(row[1])== 1):\n",
    "            templist =[round1infoA,round2infoA,round3infoA,round4infoA,round5infoA,\n",
    "                    round1infoB,round2infoB,round3infoB,round4infoB,round5infoB]\n",
    "        else:\n",
    "            templist =[round1infoB,round2infoB,round3infoB,round4infoB,round5infoB,\n",
    "                    round1infoA,round2infoA,round3infoA,round4infoA,round5infoA,]\n",
    "    \n",
    "    for info in templist:\n",
    "        if(info[5] != '--'):\n",
    "            info[5] = get_sec(info[5])\n",
    "\n",
    "\n",
    "    if(round1avg >= 0):\n",
    "        rinfo =templist[0]\n",
    "        rdata=[]\n",
    "        rdata2=[]\n",
    "        for idx in range(len(rinfo)):\n",
    "            rdata.append(rinfo[idx])\n",
    "            rdata.append(templist[5][idx])\n",
    "            rdata2.append(templist[5][idx])\n",
    "            rdata2.append(rinfo[idx])            \n",
    "        rdata.insert(0, int(round1avg))       \n",
    "        rdata2.insert(0, -int(round1avg))\n",
    "        rounds_df.loc[len(rounds_df.index)] = rdata\n",
    "        rounds_df.loc[len(rounds_df.index)] = rdata2\n",
    "    else:\n",
    "        rinfo =templist[5]\n",
    "        rdata=[]\n",
    "        rdata2=[]\n",
    "        for idx in range(len(rinfo)):\n",
    "            rdata.append(rinfo[idx])\n",
    "            rdata.append(templist[0][idx])\n",
    "            rdata2.append(templist[0][idx])\n",
    "            rdata2.append(rinfo[idx])            \n",
    "        rdata.insert(0, -int(round1avg))       \n",
    "        rdata2.insert(0, int(round1avg))\n",
    "        rounds_df.loc[len(rounds_df.index)] = rdata\n",
    "        rounds_df.loc[len(rounds_df.index)] = rdata2                 \n",
    "    fans_df.append(row[98])\n",
    "\n",
    "    if(round2avg >= 0):\n",
    "        rinfo =templist[1]\n",
    "        rdata=[]\n",
    "        rdata2=[]\n",
    "        for idx in range(len(rinfo)):\n",
    "            rdata.append(rinfo[idx])\n",
    "            rdata.append(templist[6][idx])\n",
    "            rdata2.append(templist[6][idx])\n",
    "            rdata2.append(rinfo[idx])            \n",
    "        rdata.insert(0, int(round2avg))       \n",
    "        rdata2.insert(0, -int(round2avg))\n",
    "        rounds_df.loc[len(rounds_df.index)] = rdata\n",
    "        rounds_df.loc[len(rounds_df.index)] = rdata2               \n",
    "    else:\n",
    "        rinfo =templist[6]\n",
    "        rdata=[]\n",
    "        rdata2=[]\n",
    "        for idx in range(len(rinfo)):\n",
    "            rdata.append(rinfo[idx])\n",
    "            rdata.append(templist[1][idx])\n",
    "            rdata2.append(templist[1][idx])\n",
    "            rdata2.append(rinfo[idx])            \n",
    "        rdata.insert(0, -int(round2avg))       \n",
    "        rdata2.insert(0, int(round2avg))\n",
    "        rounds_df.loc[len(rounds_df.index)] = rdata\n",
    "        rounds_df.loc[len(rounds_df.index)] = rdata2\n",
    "    fans_df.append(row[99])             \n",
    "\n",
    "    if(round3avg >= 0):\n",
    "        rinfo =templist[2]\n",
    "        rdata=[]\n",
    "        rdata2=[]\n",
    "        for idx in range(len(rinfo)):\n",
    "            rdata.append(rinfo[idx])\n",
    "            rdata.append(templist[7][idx])\n",
    "            rdata2.append(templist[7][idx])\n",
    "            rdata2.append(rinfo[idx])            \n",
    "        rdata.insert(0, int(round3avg))       \n",
    "        rdata2.insert(0, -int(round3avg))\n",
    "        rounds_df.loc[len(rounds_df.index)] = rdata\n",
    "        rounds_df.loc[len(rounds_df.index)] = rdata2\n",
    "    fans_df.append(row[100])\n",
    "                   \n",
    "    else:\n",
    "        rinfo =templist[7]\n",
    "        rdata=[]\n",
    "        rdata2=[]\n",
    "        for idx in range(len(rinfo)):\n",
    "            rdata.append(rinfo[idx])\n",
    "            rdata.append(templist[2][idx])\n",
    "            rdata2.append(templist[2][idx])\n",
    "            rdata2.append(rinfo[idx])            \n",
    "        rdata.insert(0, -int(round3avg))       \n",
    "        rdata2.insert(0, int(round3avg))\n",
    "        rounds_df.loc[len(rounds_df.index)] = rdata\n",
    "        rounds_df.loc[len(rounds_df.index)] = rdata2             \n",
    "\n",
    "    if(round4avg != 'skip'):\n",
    "        if(round4avg >= 0):\n",
    "            rinfo =templist[3]\n",
    "            rdata=[]\n",
    "            rdata2=[]\n",
    "            for idx in range(len(rinfo)):\n",
    "                rdata.append(rinfo[idx])\n",
    "                rdata.append(templist[8][idx])\n",
    "                rdata2.append(templist[8][idx])\n",
    "                rdata2.append(rinfo[idx])            \n",
    "            rdata.insert(0, int(round4avg))       \n",
    "            rdata2.insert(0, -int(round4avg))\n",
    "            rounds_df.loc[len(rounds_df.index)] = rdata\n",
    "            rounds_df.loc[len(rounds_df.index)] = rdata2          \n",
    "        else:\n",
    "            rinfo =templist[8]\n",
    "            rdata=[]\n",
    "            rdata2=[]\n",
    "            for idx in range(len(rinfo)):\n",
    "                rdata.append(rinfo[idx])\n",
    "                rdata.append(templist[3][idx])\n",
    "                rdata2.append(templist[3][idx])\n",
    "                rdata2.append(rinfo[idx])            \n",
    "            rdata.insert(0, -int(round4avg))       \n",
    "            rdata2.insert(0, int(round4avg))\n",
    "            rounds_df.loc[len(rounds_df.index)] = rdata\n",
    "            rounds_df.loc[len(rounds_df.index)] = rdata2       \n",
    "\n",
    "    if(round5avg != 'skip'):\n",
    "        if(round5avg >= 0):\n",
    "            rinfo =templist[4]\n",
    "            rdata=[]\n",
    "            rdata2=[]\n",
    "            for idx in range(len(rinfo)):\n",
    "                rdata.append(rinfo[idx])\n",
    "                rdata.append(templist[9][idx])\n",
    "                rdata2.append(templist[9][idx])\n",
    "                rdata2.append(rinfo[idx])            \n",
    "            rdata.insert(0, int(round5avg))       \n",
    "            rdata2.insert(0, -int(round5avg))\n",
    "            rounds_df.loc[len(rounds_df.index)] = rdata\n",
    "            rounds_df.loc[len(rounds_df.index)] = rdata2\n",
    "        else:\n",
    "            rinfo =templist[9]\n",
    "            rdata=[]\n",
    "            rdata2=[]\n",
    "            for idx in range(len(rinfo)):\n",
    "                rdata.append(rinfo[idx])\n",
    "                rdata.append(templist[4][idx])\n",
    "                rdata2.append(templist[4][idx])\n",
    "                rdata2.append(rinfo[idx])            \n",
    "            rdata.insert(0, -int(round5avg))       \n",
    "            rdata2.insert(0, int(round5avg))\n",
    "            rounds_df.loc[len(rounds_df.index)] = rdata\n",
    "            rounds_df.loc[len(rounds_df.index)] = rdata2  \n",
    "rounds_df = rounds_df.apply(pd.to_numeric)\n",
    "#sns.pairplot(rounds_df[[ 'Diff_Sig_Strikes_Attempted','Diff_Sig_Strikes_Landed','Diff_KD','Diff_TD','Diff_Sub_Attempts','Diff_Ctrl_Time','Diff_Head_Strikes','Round score']], hue='Round score', palette='bwr')"
   ]
  },
  {
   "cell_type": "code",
   "execution_count": 8,
   "metadata": {},
   "outputs": [],
   "source": [
    "rounds_df.to_csv( 'rounds.csv', index=False)\n",
    "scores_df=rounds_df.loc[:,'Round score']\n",
    "scores_df.to_csv('scores.csv', index=False)"
   ]
  },
  {
   "attachments": {},
   "cell_type": "markdown",
   "metadata": {},
   "source": [
    "Due to the inclusion of both winners and losers of a round, the data is symmetrical. The clearest linear relationships exist with the most commonly-associated factors like Sig strikes attempted- Head strikes,  Sig strikes landed- Head strikes, and takedowns-Control time. Almost all of 7 data features have gaussian distribution except for the piecewise distribution of takedowns and control time which is skewed left for winners. There is a problem with class imbalance since there are 14028 -1/1's, 508 2/-2's, and 4 0's and 2 3/-3's. This means 96.47% of all rounds are 10-9's. Becaus most of the very rare 10-7 rounds in the modern era are due to point deductions, we'll treate them in our network as a 10-8.  We will first experiment with a Nueral network via pytorch, approaching this as a multinomial classification problem."
   ]
  },
  {
   "cell_type": "code",
   "execution_count": 11,
   "metadata": {},
   "outputs": [],
   "source": [
    "import numpy as np\n",
    "import torch \n",
    "import torch.nn as nn\n",
    "import torch.optim as optim\n",
    "from sklearn.model_selection import train_test_split\n",
    "import torch.optim.lr_scheduler as lr_scheduler"
   ]
  },
  {
   "cell_type": "code",
   "execution_count": 18,
   "metadata": {},
   "outputs": [],
   "source": [
    "dataset =rounds_df.to_numpy()\n",
    "X = dataset[:,1:16]\n",
    "y = dataset[:,0:1]\n",
    "y_2 =[]\n",
    "y_3 = []\n",
    "for item in y:\n",
    "    match item:\n",
    "        case 0:\n",
    "            y_3.append([1,0,0,0,0])\n",
    "        case 1:\n",
    "            y_3.append([0,1,0,0,0])\n",
    "        case 2:\n",
    "            y_3.append([0,0,1,0,0])\n",
    "        case 3:\n",
    "            y_3.append([0,0,1,0,0])\n",
    "        case -1:\n",
    "            y_3.append([0,0,0,1,0])\n",
    "        case -2:\n",
    "            y_3.append([0,0,0,0,1])\n",
    "        case -3:\n",
    "            y_3.append([0,0,0,0,1])\n",
    "    if(item >= 0):\n",
    "        y_2.append([1])\n",
    "    else:\n",
    "        y_2.append([0])\n",
    "\n",
    "X = torch.tensor(X, dtype=torch.float32)\n",
    "y = torch.tensor(y, dtype=torch.float32).reshape(-1,1)\n",
    "y_2 = torch.tensor(y_2, dtype=torch.float32).reshape(-1, 1)\n",
    "y_3 = torch.tensor(y_3, dtype=torch.float32).reshape(-1, 5)\n",
    "X_train, X_test, y_train, y_test = train_test_split(X, y_3, train_size=0.90, shuffle=True)\n"
   ]
  },
  {
   "cell_type": "code",
   "execution_count": 47,
   "metadata": {},
   "outputs": [
    {
     "name": "stdout",
     "output_type": "stream",
     "text": [
      "class weights: [0.9997249346719846, 0.5176729473249897, 0.982464585339018, 0.5176729473249897, 0.982464585339018]\n"
     ]
    }
   ],
   "source": [
    "\n",
    "model = nn.Sequential(\n",
    "    nn.Linear(14, 30),\n",
    "    nn.ReLU(),\n",
    "    nn.Linear(30, 30),\n",
    "    nn.ReLU(),\n",
    "    nn.Linear(30, 5),\n",
    "    nn.ReLU(),\n",
    "    nn.Linear(5, 5),\n",
    "    #nn.Sigmoid()\n",
    "    )\n",
    "'''\n",
    "class Multiclass(nn.Module):\n",
    "    def __init__(self):\n",
    "        super().__init__()\n",
    "        self.hidden = nn.Linear(7, 12)\n",
    "        self.act = nn.ReLU()\n",
    "        self.output = nn.Linear(12, 7)\n",
    "        \n",
    "    def forward(self, x):\n",
    "        x = self.act(self.hidden(x))\n",
    "        x = self.output(x)\n",
    "        return x\n",
    "    \n",
    "model = Multiclass()\n",
    "loss_fn = nn.<span class=\"sig-name descname\"><span class=\"pre\">CrossEntropyLoss</span></span>()\n",
    "'''\n",
    "class_weights=[]\n",
    "class_weights.append( 1-(( scores_df==0).sum()/len(rounds_df)) )\n",
    "class_weights.append(1- ((( scores_df==1).sum())/len(rounds_df)) )\n",
    "class_weights.append(1- ((( scores_df==2).sum() +( scores_df==3).sum())/len(rounds_df)) )\n",
    "class_weights.append(1- ((( scores_df==-1).sum())/len(rounds_df)) )\n",
    "class_weights.append(1- ((( scores_df==-2).sum()+( scores_df==-3).sum())/len(rounds_df)) )\n",
    "\n",
    "print('class weights:',class_weights)\n",
    "loss_fn = nn.CrossEntropyLoss(weight=torch.tensor(class_weights))\n",
    "#optimizer = optim.Adam(model.parameters(), lr=0.0001,)\n",
    "optimizer = optim.SGD(model.parameters(), lr=0.0001, momentum =0.7)\n",
    "#scheduler = lr_scheduler.ExponentialLR(optimizer, gamma=0.997)\n",
    "scheduler = lr_scheduler.CyclicLR(optimizer, base_lr=0.00001, max_lr=0.001, cycle_momentum=False)\n",
    "\n"
   ]
  },
  {
   "cell_type": "code",
   "execution_count": 50,
   "metadata": {},
   "outputs": [
    {
     "name": "stderr",
     "output_type": "stream",
     "text": [
      "Epoch 0: 100%|██████████| 3271/3271 [00:11<00:00, 275.86batch/s, acc=0.75, loss=0.229]\n"
     ]
    },
    {
     "name": "stdout",
     "output_type": "stream",
     "text": [
      "Epoch 0 validation: Cross-entropy=0.3025842375000667, Accuracy=0.7903780341148376\n"
     ]
    },
    {
     "name": "stderr",
     "output_type": "stream",
     "text": [
      "Epoch 1: 100%|██████████| 3271/3271 [00:10<00:00, 297.96batch/s, acc=0.75, loss=0.227]\n"
     ]
    },
    {
     "name": "stdout",
     "output_type": "stream",
     "text": [
      "Epoch 1 validation: Cross-entropy=0.3017489411326125, Accuracy=0.7883161306381226\n"
     ]
    },
    {
     "name": "stderr",
     "output_type": "stream",
     "text": [
      "Epoch 2: 100%|██████████| 3271/3271 [00:30<00:00, 107.29batch/s, acc=0.75, loss=0.226]\n"
     ]
    },
    {
     "name": "stdout",
     "output_type": "stream",
     "text": [
      "Epoch 2 validation: Cross-entropy=0.30097095788455547, Accuracy=0.7896907329559326\n"
     ]
    },
    {
     "name": "stderr",
     "output_type": "stream",
     "text": [
      "Epoch 3: 100%|██████████| 3271/3271 [00:16<00:00, 201.34batch/s, acc=0.75, loss=0.224]\n"
     ]
    },
    {
     "name": "stdout",
     "output_type": "stream",
     "text": [
      "Epoch 3 validation: Cross-entropy=0.30012992464662464, Accuracy=0.792439877986908\n"
     ]
    },
    {
     "name": "stderr",
     "output_type": "stream",
     "text": [
      "Epoch 4: 100%|██████████| 3271/3271 [00:10<00:00, 305.16batch/s, acc=0.75, loss=0.223]\n"
     ]
    },
    {
     "name": "stdout",
     "output_type": "stream",
     "text": [
      "Epoch 4 validation: Cross-entropy=0.29941279437947266, Accuracy=0.7938144207000732\n"
     ]
    },
    {
     "name": "stderr",
     "output_type": "stream",
     "text": [
      "Epoch 5: 100%|██████████| 3271/3271 [00:10<00:00, 318.48batch/s, acc=0.75, loss=0.221]\n"
     ]
    },
    {
     "name": "stdout",
     "output_type": "stream",
     "text": [
      "Epoch 5 validation: Cross-entropy=0.29876475555487, Accuracy=0.7951890230178833\n"
     ]
    },
    {
     "name": "stderr",
     "output_type": "stream",
     "text": [
      "Epoch 6: 100%|██████████| 3271/3271 [00:10<00:00, 308.32batch/s, acc=0.75, loss=0.22] \n"
     ]
    },
    {
     "name": "stdout",
     "output_type": "stream",
     "text": [
      "Epoch 6 validation: Cross-entropy=0.29818446522743963, Accuracy=0.7951890230178833\n"
     ]
    },
    {
     "name": "stderr",
     "output_type": "stream",
     "text": [
      "Epoch 7: 100%|██████████| 3271/3271 [00:10<00:00, 312.70batch/s, acc=0.75, loss=0.219]\n"
     ]
    },
    {
     "name": "stdout",
     "output_type": "stream",
     "text": [
      "Epoch 7 validation: Cross-entropy=0.29774224478929384, Accuracy=0.7938144207000732\n"
     ]
    },
    {
     "name": "stderr",
     "output_type": "stream",
     "text": [
      "Epoch 8: 100%|██████████| 3271/3271 [00:10<00:00, 301.61batch/s, acc=0.75, loss=0.219]\n"
     ]
    },
    {
     "name": "stdout",
     "output_type": "stream",
     "text": [
      "Epoch 8 validation: Cross-entropy=0.2973058537786774, Accuracy=0.7945017218589783\n"
     ]
    },
    {
     "name": "stderr",
     "output_type": "stream",
     "text": [
      "Epoch 9: 100%|██████████| 3271/3271 [00:10<00:00, 314.58batch/s, acc=0.75, loss=0.218]\n"
     ]
    },
    {
     "name": "stdout",
     "output_type": "stream",
     "text": [
      "Epoch 9 validation: Cross-entropy=0.29689921391769575, Accuracy=0.7965635657310486\n"
     ]
    },
    {
     "name": "stderr",
     "output_type": "stream",
     "text": [
      "Epoch 10: 100%|██████████| 3271/3271 [00:12<00:00, 261.89batch/s, acc=0.75, loss=0.217]\n"
     ]
    },
    {
     "name": "stdout",
     "output_type": "stream",
     "text": [
      "Epoch 10 validation: Cross-entropy=0.296613224804266, Accuracy=0.7945017218589783\n"
     ]
    },
    {
     "name": "stderr",
     "output_type": "stream",
     "text": [
      "Epoch 11: 100%|██████████| 3271/3271 [00:10<00:00, 304.87batch/s, acc=0.75, loss=0.217]\n"
     ]
    },
    {
     "name": "stdout",
     "output_type": "stream",
     "text": [
      "Epoch 11 validation: Cross-entropy=0.2963449664259802, Accuracy=0.7938144207000732\n"
     ]
    },
    {
     "name": "stderr",
     "output_type": "stream",
     "text": [
      "Epoch 12: 100%|██████████| 3271/3271 [00:10<00:00, 317.03batch/s, acc=0.75, loss=0.216]\n"
     ]
    },
    {
     "name": "stdout",
     "output_type": "stream",
     "text": [
      "Epoch 12 validation: Cross-entropy=0.2962008385241185, Accuracy=0.7945017218589783\n"
     ]
    },
    {
     "name": "stderr",
     "output_type": "stream",
     "text": [
      "Epoch 13: 100%|██████████| 3271/3271 [00:11<00:00, 282.63batch/s, acc=0.75, loss=0.216]\n"
     ]
    },
    {
     "name": "stdout",
     "output_type": "stream",
     "text": [
      "Epoch 13 validation: Cross-entropy=0.29595482486194374, Accuracy=0.7945017218589783\n"
     ]
    },
    {
     "name": "stderr",
     "output_type": "stream",
     "text": [
      "Epoch 14: 100%|██████████| 3271/3271 [00:10<00:00, 302.30batch/s, acc=0.75, loss=0.215]\n"
     ]
    },
    {
     "name": "stdout",
     "output_type": "stream",
     "text": [
      "Epoch 14 validation: Cross-entropy=0.295863473999953, Accuracy=0.7951890230178833\n"
     ]
    },
    {
     "name": "stderr",
     "output_type": "stream",
     "text": [
      "Epoch 15: 100%|██████████| 3271/3271 [00:10<00:00, 301.95batch/s, acc=0.75, loss=0.215]\n"
     ]
    },
    {
     "name": "stdout",
     "output_type": "stream",
     "text": [
      "Epoch 15 validation: Cross-entropy=0.29576788922363867, Accuracy=0.7951890230178833\n"
     ]
    },
    {
     "name": "stderr",
     "output_type": "stream",
     "text": [
      "Epoch 16: 100%|██████████| 3271/3271 [00:10<00:00, 312.10batch/s, acc=0.75, loss=0.215]\n"
     ]
    },
    {
     "name": "stdout",
     "output_type": "stream",
     "text": [
      "Epoch 16 validation: Cross-entropy=0.2956305217851795, Accuracy=0.7938144207000732\n"
     ]
    },
    {
     "name": "stderr",
     "output_type": "stream",
     "text": [
      "Epoch 17: 100%|██████████| 3271/3271 [00:10<00:00, 307.26batch/s, acc=0.75, loss=0.215]\n"
     ]
    },
    {
     "name": "stdout",
     "output_type": "stream",
     "text": [
      "Epoch 17 validation: Cross-entropy=0.2954435107360648, Accuracy=0.7931271195411682\n"
     ]
    },
    {
     "name": "stderr",
     "output_type": "stream",
     "text": [
      "Epoch 18: 100%|██████████| 3271/3271 [00:17<00:00, 182.79batch/s, acc=0.75, loss=0.215]\n"
     ]
    },
    {
     "name": "stdout",
     "output_type": "stream",
     "text": [
      "Epoch 18 validation: Cross-entropy=0.2951856006611501, Accuracy=0.792439877986908\n"
     ]
    },
    {
     "name": "stderr",
     "output_type": "stream",
     "text": [
      "Epoch 19: 100%|██████████| 3271/3271 [00:12<00:00, 257.20batch/s, acc=0.75, loss=0.215]\n"
     ]
    },
    {
     "name": "stdout",
     "output_type": "stream",
     "text": [
      "Epoch 19 validation: Cross-entropy=0.29501687060945847, Accuracy=0.7938144207000732\n"
     ]
    },
    {
     "name": "stderr",
     "output_type": "stream",
     "text": [
      "Epoch 20: 100%|██████████| 3271/3271 [00:11<00:00, 292.13batch/s, acc=0.75, loss=0.215]\n"
     ]
    },
    {
     "name": "stdout",
     "output_type": "stream",
     "text": [
      "Epoch 20 validation: Cross-entropy=0.2948910332359783, Accuracy=0.7938144207000732\n"
     ]
    },
    {
     "name": "stderr",
     "output_type": "stream",
     "text": [
      "Epoch 21: 100%|██████████| 3271/3271 [00:11<00:00, 288.17batch/s, acc=0.75, loss=0.214]\n"
     ]
    },
    {
     "name": "stdout",
     "output_type": "stream",
     "text": [
      "Epoch 21 validation: Cross-entropy=0.2947399244808966, Accuracy=0.7931271195411682\n"
     ]
    },
    {
     "name": "stderr",
     "output_type": "stream",
     "text": [
      "Epoch 22: 100%|██████████| 3271/3271 [00:10<00:00, 307.72batch/s, acc=0.75, loss=0.214]\n"
     ]
    },
    {
     "name": "stdout",
     "output_type": "stream",
     "text": [
      "Epoch 22 validation: Cross-entropy=0.29461771999310993, Accuracy=0.792439877986908\n"
     ]
    },
    {
     "name": "stderr",
     "output_type": "stream",
     "text": [
      "Epoch 23: 100%|██████████| 3271/3271 [00:10<00:00, 312.28batch/s, acc=0.75, loss=0.214]\n"
     ]
    },
    {
     "name": "stdout",
     "output_type": "stream",
     "text": [
      "Epoch 23 validation: Cross-entropy=0.29454728012521103, Accuracy=0.792439877986908\n"
     ]
    },
    {
     "name": "stderr",
     "output_type": "stream",
     "text": [
      "Epoch 24: 100%|██████████| 3271/3271 [00:10<00:00, 308.09batch/s, acc=0.75, loss=0.214]\n"
     ]
    },
    {
     "name": "stdout",
     "output_type": "stream",
     "text": [
      "Epoch 24 validation: Cross-entropy=0.29442271687712945, Accuracy=0.7917525768280029\n"
     ]
    },
    {
     "name": "stderr",
     "output_type": "stream",
     "text": [
      "Epoch 25: 100%|██████████| 3271/3271 [00:10<00:00, 308.89batch/s, acc=0.75, loss=0.214]\n"
     ]
    },
    {
     "name": "stdout",
     "output_type": "stream",
     "text": [
      "Epoch 25 validation: Cross-entropy=0.2943162654015033, Accuracy=0.792439877986908\n"
     ]
    },
    {
     "name": "stderr",
     "output_type": "stream",
     "text": [
      "Epoch 26: 100%|██████████| 3271/3271 [00:15<00:00, 207.21batch/s, acc=0.75, loss=0.213]\n"
     ]
    },
    {
     "name": "stdout",
     "output_type": "stream",
     "text": [
      "Epoch 26 validation: Cross-entropy=0.29424889772493756, Accuracy=0.792439877986908\n"
     ]
    },
    {
     "name": "stderr",
     "output_type": "stream",
     "text": [
      "Epoch 27: 100%|██████████| 3271/3271 [00:11<00:00, 296.87batch/s, acc=0.75, loss=0.214]\n"
     ]
    },
    {
     "name": "stdout",
     "output_type": "stream",
     "text": [
      "Epoch 27 validation: Cross-entropy=0.2941692492788974, Accuracy=0.7903780341148376\n"
     ]
    },
    {
     "name": "stderr",
     "output_type": "stream",
     "text": [
      "Epoch 28: 100%|██████████| 3271/3271 [00:10<00:00, 307.77batch/s, acc=0.75, loss=0.213]\n"
     ]
    },
    {
     "name": "stdout",
     "output_type": "stream",
     "text": [
      "Epoch 28 validation: Cross-entropy=0.2940791310862818, Accuracy=0.7903780341148376\n"
     ]
    },
    {
     "name": "stderr",
     "output_type": "stream",
     "text": [
      "Epoch 29: 100%|██████████| 3271/3271 [00:10<00:00, 302.16batch/s, acc=0.75, loss=0.214]\n"
     ]
    },
    {
     "name": "stdout",
     "output_type": "stream",
     "text": [
      "Epoch 29 validation: Cross-entropy=0.29401906724120586, Accuracy=0.7903780341148376\n"
     ]
    },
    {
     "name": "stderr",
     "output_type": "stream",
     "text": [
      "Epoch 30: 100%|██████████| 3271/3271 [00:10<00:00, 303.12batch/s, acc=0.75, loss=0.213]\n"
     ]
    },
    {
     "name": "stdout",
     "output_type": "stream",
     "text": [
      "Epoch 30 validation: Cross-entropy=0.293940850915455, Accuracy=0.7890034317970276\n"
     ]
    },
    {
     "name": "stderr",
     "output_type": "stream",
     "text": [
      "Epoch 31: 100%|██████████| 3271/3271 [00:11<00:00, 286.92batch/s, acc=0.75, loss=0.213]\n"
     ]
    },
    {
     "name": "stdout",
     "output_type": "stream",
     "text": [
      "Epoch 31 validation: Cross-entropy=0.29386836600772454, Accuracy=0.7896907329559326\n"
     ]
    },
    {
     "name": "stderr",
     "output_type": "stream",
     "text": [
      "Epoch 32: 100%|██████████| 3271/3271 [00:11<00:00, 283.09batch/s, acc=0.75, loss=0.213]\n"
     ]
    },
    {
     "name": "stdout",
     "output_type": "stream",
     "text": [
      "Epoch 32 validation: Cross-entropy=0.293749101296311, Accuracy=0.7890034317970276\n"
     ]
    },
    {
     "name": "stderr",
     "output_type": "stream",
     "text": [
      "Epoch 33: 100%|██████████| 3271/3271 [00:13<00:00, 233.99batch/s, acc=0.75, loss=0.213]\n"
     ]
    },
    {
     "name": "stdout",
     "output_type": "stream",
     "text": [
      "Epoch 33 validation: Cross-entropy=0.2935755726505395, Accuracy=0.7890034317970276\n"
     ]
    },
    {
     "name": "stderr",
     "output_type": "stream",
     "text": [
      "Epoch 34: 100%|██████████| 3271/3271 [00:10<00:00, 304.63batch/s, acc=0.75, loss=0.212]\n"
     ]
    },
    {
     "name": "stdout",
     "output_type": "stream",
     "text": [
      "Epoch 34 validation: Cross-entropy=0.2934981784600707, Accuracy=0.7890034317970276\n"
     ]
    },
    {
     "name": "stderr",
     "output_type": "stream",
     "text": [
      "Epoch 35: 100%|██████████| 3271/3271 [00:10<00:00, 309.30batch/s, acc=0.75, loss=0.212]\n"
     ]
    },
    {
     "name": "stdout",
     "output_type": "stream",
     "text": [
      "Epoch 35 validation: Cross-entropy=0.2933001802461049, Accuracy=0.7890034317970276\n"
     ]
    },
    {
     "name": "stderr",
     "output_type": "stream",
     "text": [
      "Epoch 36: 100%|██████████| 3271/3271 [00:11<00:00, 276.18batch/s, acc=0.75, loss=0.212]\n"
     ]
    },
    {
     "name": "stdout",
     "output_type": "stream",
     "text": [
      "Epoch 36 validation: Cross-entropy=0.2931885055758701, Accuracy=0.7910652756690979\n"
     ]
    },
    {
     "name": "stderr",
     "output_type": "stream",
     "text": [
      "Epoch 37: 100%|██████████| 3271/3271 [00:11<00:00, 292.88batch/s, acc=0.75, loss=0.212]\n"
     ]
    },
    {
     "name": "stdout",
     "output_type": "stream",
     "text": [
      "Epoch 37 validation: Cross-entropy=0.29310433008059983, Accuracy=0.7910652756690979\n"
     ]
    },
    {
     "name": "stderr",
     "output_type": "stream",
     "text": [
      "Epoch 38: 100%|██████████| 3271/3271 [00:13<00:00, 242.43batch/s, acc=0.75, loss=0.211]\n"
     ]
    },
    {
     "name": "stdout",
     "output_type": "stream",
     "text": [
      "Epoch 38 validation: Cross-entropy=0.29303659597379095, Accuracy=0.7896907329559326\n"
     ]
    },
    {
     "name": "stderr",
     "output_type": "stream",
     "text": [
      "Epoch 39: 100%|██████████| 3271/3271 [00:11<00:00, 289.49batch/s, acc=0.75, loss=0.211]\n"
     ]
    },
    {
     "name": "stdout",
     "output_type": "stream",
     "text": [
      "Epoch 39 validation: Cross-entropy=0.2930368217183573, Accuracy=0.7903780341148376\n"
     ]
    },
    {
     "name": "stderr",
     "output_type": "stream",
     "text": [
      "Epoch 40: 100%|██████████| 3271/3271 [00:10<00:00, 303.83batch/s, acc=0.75, loss=0.211]\n"
     ]
    },
    {
     "name": "stdout",
     "output_type": "stream",
     "text": [
      "Epoch 40 validation: Cross-entropy=0.2928997977644838, Accuracy=0.7903780341148376\n"
     ]
    },
    {
     "name": "stderr",
     "output_type": "stream",
     "text": [
      "Epoch 41: 100%|██████████| 3271/3271 [00:10<00:00, 305.06batch/s, acc=0.75, loss=0.211]\n"
     ]
    },
    {
     "name": "stdout",
     "output_type": "stream",
     "text": [
      "Epoch 41 validation: Cross-entropy=0.2928500739288098, Accuracy=0.7903780341148376\n"
     ]
    },
    {
     "name": "stderr",
     "output_type": "stream",
     "text": [
      "Epoch 42: 100%|██████████| 3271/3271 [00:10<00:00, 310.62batch/s, acc=0.75, loss=0.211]\n"
     ]
    },
    {
     "name": "stdout",
     "output_type": "stream",
     "text": [
      "Epoch 42 validation: Cross-entropy=0.29276116407872155, Accuracy=0.7896907329559326\n"
     ]
    },
    {
     "name": "stderr",
     "output_type": "stream",
     "text": [
      "Epoch 43: 100%|██████████| 3271/3271 [00:10<00:00, 308.87batch/s, acc=0.75, loss=0.21] \n"
     ]
    },
    {
     "name": "stdout",
     "output_type": "stream",
     "text": [
      "Epoch 43 validation: Cross-entropy=0.2928459301599634, Accuracy=0.7903780341148376\n"
     ]
    },
    {
     "name": "stderr",
     "output_type": "stream",
     "text": [
      "Epoch 44: 100%|██████████| 3271/3271 [00:11<00:00, 296.85batch/s, acc=0.75, loss=0.211]\n"
     ]
    },
    {
     "name": "stdout",
     "output_type": "stream",
     "text": [
      "Epoch 44 validation: Cross-entropy=0.29264970931333223, Accuracy=0.7896907329559326\n"
     ]
    },
    {
     "name": "stderr",
     "output_type": "stream",
     "text": [
      "Epoch 45: 100%|██████████| 3271/3271 [00:14<00:00, 222.58batch/s, acc=0.75, loss=0.21] \n"
     ]
    },
    {
     "name": "stdout",
     "output_type": "stream",
     "text": [
      "Epoch 45 validation: Cross-entropy=0.2925917732393637, Accuracy=0.7896907329559326\n"
     ]
    },
    {
     "name": "stderr",
     "output_type": "stream",
     "text": [
      "Epoch 46: 100%|██████████| 3271/3271 [00:12<00:00, 271.66batch/s, acc=0.75, loss=0.21] \n"
     ]
    },
    {
     "name": "stdout",
     "output_type": "stream",
     "text": [
      "Epoch 46 validation: Cross-entropy=0.2925757405909096, Accuracy=0.7896907329559326\n"
     ]
    },
    {
     "name": "stderr",
     "output_type": "stream",
     "text": [
      "Epoch 47: 100%|██████████| 3271/3271 [00:11<00:00, 294.10batch/s, acc=0.75, loss=0.21] \n"
     ]
    },
    {
     "name": "stdout",
     "output_type": "stream",
     "text": [
      "Epoch 47 validation: Cross-entropy=0.2924928892656662, Accuracy=0.7903780341148376\n"
     ]
    },
    {
     "name": "stderr",
     "output_type": "stream",
     "text": [
      "Epoch 48: 100%|██████████| 3271/3271 [00:12<00:00, 271.16batch/s, acc=0.75, loss=0.21] \n"
     ]
    },
    {
     "name": "stdout",
     "output_type": "stream",
     "text": [
      "Epoch 48 validation: Cross-entropy=0.2923062709434308, Accuracy=0.7903780341148376\n"
     ]
    },
    {
     "name": "stderr",
     "output_type": "stream",
     "text": [
      "Epoch 49: 100%|██████████| 3271/3271 [00:11<00:00, 295.13batch/s, acc=0.75, loss=0.21] \n"
     ]
    },
    {
     "name": "stdout",
     "output_type": "stream",
     "text": [
      "Epoch 49 validation: Cross-entropy=0.2922180745692313, Accuracy=0.7896907329559326\n"
     ]
    },
    {
     "name": "stderr",
     "output_type": "stream",
     "text": [
      "Epoch 50: 100%|██████████| 3271/3271 [00:16<00:00, 195.24batch/s, acc=0.75, loss=0.21] \n"
     ]
    },
    {
     "name": "stdout",
     "output_type": "stream",
     "text": [
      "Epoch 50 validation: Cross-entropy=0.29223499730992036, Accuracy=0.7896907329559326\n"
     ]
    },
    {
     "name": "stderr",
     "output_type": "stream",
     "text": [
      "Epoch 51: 100%|██████████| 3271/3271 [00:14<00:00, 226.68batch/s, acc=0.75, loss=0.21] \n"
     ]
    },
    {
     "name": "stdout",
     "output_type": "stream",
     "text": [
      "Epoch 51 validation: Cross-entropy=0.2921440222309299, Accuracy=0.7890034317970276\n"
     ]
    },
    {
     "name": "stderr",
     "output_type": "stream",
     "text": [
      "Epoch 52: 100%|██████████| 3271/3271 [00:10<00:00, 313.78batch/s, acc=0.75, loss=0.21] \n"
     ]
    },
    {
     "name": "stdout",
     "output_type": "stream",
     "text": [
      "Epoch 52 validation: Cross-entropy=0.29202949564575, Accuracy=0.7890034317970276\n"
     ]
    },
    {
     "name": "stderr",
     "output_type": "stream",
     "text": [
      "Epoch 53: 100%|██████████| 3271/3271 [00:10<00:00, 299.26batch/s, acc=0.75, loss=0.21] \n"
     ]
    },
    {
     "name": "stdout",
     "output_type": "stream",
     "text": [
      "Epoch 53 validation: Cross-entropy=0.2920812526710614, Accuracy=0.7876288890838623\n"
     ]
    },
    {
     "name": "stderr",
     "output_type": "stream",
     "text": [
      "Epoch 54: 100%|██████████| 3271/3271 [00:10<00:00, 306.63batch/s, acc=0.75, loss=0.21] \n"
     ]
    },
    {
     "name": "stdout",
     "output_type": "stream",
     "text": [
      "Epoch 54 validation: Cross-entropy=0.2918874786456056, Accuracy=0.7876288890838623\n"
     ]
    },
    {
     "name": "stderr",
     "output_type": "stream",
     "text": [
      "Epoch 55: 100%|██████████| 3271/3271 [00:10<00:00, 299.17batch/s, acc=0.75, loss=0.21] \n"
     ]
    },
    {
     "name": "stdout",
     "output_type": "stream",
     "text": [
      "Epoch 55 validation: Cross-entropy=0.2918385921048263, Accuracy=0.7883161306381226\n"
     ]
    },
    {
     "name": "stderr",
     "output_type": "stream",
     "text": [
      "Epoch 56: 100%|██████████| 3271/3271 [00:11<00:00, 288.35batch/s, acc=0.75, loss=0.209]\n"
     ]
    },
    {
     "name": "stdout",
     "output_type": "stream",
     "text": [
      "Epoch 56 validation: Cross-entropy=0.29181786299813217, Accuracy=0.7883161306381226\n"
     ]
    },
    {
     "name": "stderr",
     "output_type": "stream",
     "text": [
      "Epoch 57: 100%|██████████| 3271/3271 [00:19<00:00, 170.31batch/s, acc=0.75, loss=0.209]\n"
     ]
    },
    {
     "name": "stdout",
     "output_type": "stream",
     "text": [
      "Epoch 57 validation: Cross-entropy=0.291831258446687, Accuracy=0.7876288890838623\n"
     ]
    },
    {
     "name": "stderr",
     "output_type": "stream",
     "text": [
      "Epoch 58: 100%|██████████| 3271/3271 [00:10<00:00, 300.91batch/s, acc=0.75, loss=0.209]\n"
     ]
    },
    {
     "name": "stdout",
     "output_type": "stream",
     "text": [
      "Epoch 58 validation: Cross-entropy=0.29178936608817624, Accuracy=0.7876288890838623\n"
     ]
    },
    {
     "name": "stderr",
     "output_type": "stream",
     "text": [
      "Epoch 59: 100%|██████████| 3271/3271 [00:11<00:00, 278.49batch/s, acc=0.75, loss=0.209]\n"
     ]
    },
    {
     "name": "stdout",
     "output_type": "stream",
     "text": [
      "Epoch 59 validation: Cross-entropy=0.29170372579677145, Accuracy=0.7883161306381226\n"
     ]
    },
    {
     "name": "stderr",
     "output_type": "stream",
     "text": [
      "Epoch 60: 100%|██████████| 3271/3271 [00:11<00:00, 292.06batch/s, acc=0.75, loss=0.209]\n"
     ]
    },
    {
     "name": "stdout",
     "output_type": "stream",
     "text": [
      "Epoch 60 validation: Cross-entropy=0.291555668535612, Accuracy=0.7876288890838623\n"
     ]
    },
    {
     "name": "stderr",
     "output_type": "stream",
     "text": [
      "Epoch 61: 100%|██████████| 3271/3271 [00:13<00:00, 247.81batch/s, acc=0.75, loss=0.209]\n"
     ]
    },
    {
     "name": "stdout",
     "output_type": "stream",
     "text": [
      "Epoch 61 validation: Cross-entropy=0.2913796149370367, Accuracy=0.7876288890838623\n"
     ]
    },
    {
     "name": "stderr",
     "output_type": "stream",
     "text": [
      "Epoch 62: 100%|██████████| 3271/3271 [00:11<00:00, 281.59batch/s, acc=0.75, loss=0.209]\n"
     ]
    },
    {
     "name": "stdout",
     "output_type": "stream",
     "text": [
      "Epoch 62 validation: Cross-entropy=0.2912574850254879, Accuracy=0.7883161306381226\n"
     ]
    },
    {
     "name": "stderr",
     "output_type": "stream",
     "text": [
      "Epoch 63: 100%|██████████| 3271/3271 [00:11<00:00, 293.71batch/s, acc=0.75, loss=0.209]\n"
     ]
    },
    {
     "name": "stdout",
     "output_type": "stream",
     "text": [
      "Epoch 63 validation: Cross-entropy=0.2912264726986796, Accuracy=0.7876288890838623\n"
     ]
    },
    {
     "name": "stderr",
     "output_type": "stream",
     "text": [
      "Epoch 64: 100%|██████████| 3271/3271 [00:10<00:00, 302.58batch/s, acc=0.75, loss=0.208]\n"
     ]
    },
    {
     "name": "stdout",
     "output_type": "stream",
     "text": [
      "Epoch 64 validation: Cross-entropy=0.29122061216414613, Accuracy=0.7876288890838623\n"
     ]
    },
    {
     "name": "stderr",
     "output_type": "stream",
     "text": [
      "Epoch 65: 100%|██████████| 3271/3271 [00:10<00:00, 306.15batch/s, acc=0.75, loss=0.209]\n"
     ]
    },
    {
     "name": "stdout",
     "output_type": "stream",
     "text": [
      "Epoch 65 validation: Cross-entropy=0.29097063726176897, Accuracy=0.7876288890838623\n"
     ]
    },
    {
     "name": "stderr",
     "output_type": "stream",
     "text": [
      "Epoch 66: 100%|██████████| 3271/3271 [00:10<00:00, 307.67batch/s, acc=0.75, loss=0.208]\n"
     ]
    },
    {
     "name": "stdout",
     "output_type": "stream",
     "text": [
      "Epoch 66 validation: Cross-entropy=0.29076558853867307, Accuracy=0.7883161306381226\n"
     ]
    },
    {
     "name": "stderr",
     "output_type": "stream",
     "text": [
      "Epoch 67: 100%|██████████| 3271/3271 [00:10<00:00, 297.96batch/s, acc=0.75, loss=0.208]\n"
     ]
    },
    {
     "name": "stdout",
     "output_type": "stream",
     "text": [
      "Epoch 67 validation: Cross-entropy=0.2907731775347053, Accuracy=0.7883161306381226\n"
     ]
    },
    {
     "name": "stderr",
     "output_type": "stream",
     "text": [
      "Epoch 68: 100%|██████████| 3271/3271 [00:10<00:00, 304.58batch/s, acc=0.75, loss=0.208]\n"
     ]
    },
    {
     "name": "stdout",
     "output_type": "stream",
     "text": [
      "Epoch 68 validation: Cross-entropy=0.29066988593755194, Accuracy=0.7903780341148376\n"
     ]
    },
    {
     "name": "stderr",
     "output_type": "stream",
     "text": [
      "Epoch 69: 100%|██████████| 3271/3271 [00:10<00:00, 300.96batch/s, acc=0.75, loss=0.208]\n"
     ]
    },
    {
     "name": "stdout",
     "output_type": "stream",
     "text": [
      "Epoch 69 validation: Cross-entropy=0.2904612221480232, Accuracy=0.7896907329559326\n"
     ]
    },
    {
     "name": "stderr",
     "output_type": "stream",
     "text": [
      "Epoch 70: 100%|██████████| 3271/3271 [00:10<00:00, 305.11batch/s, acc=0.75, loss=0.207]\n"
     ]
    },
    {
     "name": "stdout",
     "output_type": "stream",
     "text": [
      "Epoch 70 validation: Cross-entropy=0.29051804787607666, Accuracy=0.7883161306381226\n"
     ]
    },
    {
     "name": "stderr",
     "output_type": "stream",
     "text": [
      "Epoch 71: 100%|██████████| 3271/3271 [00:10<00:00, 305.52batch/s, acc=0.75, loss=0.207]\n"
     ]
    },
    {
     "name": "stdout",
     "output_type": "stream",
     "text": [
      "Epoch 71 validation: Cross-entropy=0.29051824618832134, Accuracy=0.7883161306381226\n"
     ]
    },
    {
     "name": "stderr",
     "output_type": "stream",
     "text": [
      "Epoch 72: 100%|██████████| 3271/3271 [00:10<00:00, 302.12batch/s, acc=0.75, loss=0.207]\n"
     ]
    },
    {
     "name": "stdout",
     "output_type": "stream",
     "text": [
      "Epoch 72 validation: Cross-entropy=0.29041114221847214, Accuracy=0.7890034317970276\n"
     ]
    },
    {
     "name": "stderr",
     "output_type": "stream",
     "text": [
      "Epoch 73: 100%|██████████| 3271/3271 [00:10<00:00, 297.49batch/s, acc=0.75, loss=0.207]\n"
     ]
    },
    {
     "name": "stdout",
     "output_type": "stream",
     "text": [
      "Epoch 73 validation: Cross-entropy=0.29044949365963446, Accuracy=0.7890034317970276\n"
     ]
    },
    {
     "name": "stderr",
     "output_type": "stream",
     "text": [
      "Epoch 74: 100%|██████████| 3271/3271 [00:10<00:00, 301.51batch/s, acc=0.75, loss=0.206]\n"
     ]
    },
    {
     "name": "stdout",
     "output_type": "stream",
     "text": [
      "Epoch 74 validation: Cross-entropy=0.29040345620834485, Accuracy=0.7883161306381226\n"
     ]
    },
    {
     "name": "stderr",
     "output_type": "stream",
     "text": [
      "Epoch 75: 100%|██████████| 3271/3271 [00:10<00:00, 304.02batch/s, acc=0.75, loss=0.206]\n"
     ]
    },
    {
     "name": "stdout",
     "output_type": "stream",
     "text": [
      "Epoch 75 validation: Cross-entropy=0.2903608185221012, Accuracy=0.7876288890838623\n"
     ]
    },
    {
     "name": "stderr",
     "output_type": "stream",
     "text": [
      "Epoch 76: 100%|██████████| 3271/3271 [00:10<00:00, 320.58batch/s, acc=0.75, loss=0.206]\n"
     ]
    },
    {
     "name": "stdout",
     "output_type": "stream",
     "text": [
      "Epoch 76 validation: Cross-entropy=0.2904237235181794, Accuracy=0.7883161306381226\n"
     ]
    },
    {
     "name": "stderr",
     "output_type": "stream",
     "text": [
      "Epoch 77: 100%|██████████| 3271/3271 [00:10<00:00, 315.78batch/s, acc=0.75, loss=0.205]\n"
     ]
    },
    {
     "name": "stdout",
     "output_type": "stream",
     "text": [
      "Epoch 77 validation: Cross-entropy=0.2902628582130604, Accuracy=0.7883161306381226\n"
     ]
    },
    {
     "name": "stderr",
     "output_type": "stream",
     "text": [
      "Epoch 78: 100%|██████████| 3271/3271 [00:19<00:00, 171.82batch/s, acc=0.75, loss=0.204]\n"
     ]
    },
    {
     "name": "stdout",
     "output_type": "stream",
     "text": [
      "Epoch 78 validation: Cross-entropy=0.29024919863624077, Accuracy=0.7869415879249573\n"
     ]
    },
    {
     "name": "stderr",
     "output_type": "stream",
     "text": [
      "Epoch 79: 100%|██████████| 3271/3271 [00:14<00:00, 222.60batch/s, acc=0.75, loss=0.204]\n"
     ]
    },
    {
     "name": "stdout",
     "output_type": "stream",
     "text": [
      "Epoch 79 validation: Cross-entropy=0.29019710648081265, Accuracy=0.7876288890838623\n"
     ]
    },
    {
     "name": "stderr",
     "output_type": "stream",
     "text": [
      "Epoch 80: 100%|██████████| 3271/3271 [00:10<00:00, 297.51batch/s, acc=0.75, loss=0.204]\n"
     ]
    },
    {
     "name": "stdout",
     "output_type": "stream",
     "text": [
      "Epoch 80 validation: Cross-entropy=0.2900834882644073, Accuracy=0.7883161306381226\n"
     ]
    },
    {
     "name": "stderr",
     "output_type": "stream",
     "text": [
      "Epoch 81: 100%|██████████| 3271/3271 [00:10<00:00, 313.45batch/s, acc=0.75, loss=0.203]\n"
     ]
    },
    {
     "name": "stdout",
     "output_type": "stream",
     "text": [
      "Epoch 81 validation: Cross-entropy=0.2900972563349497, Accuracy=0.7890034317970276\n"
     ]
    },
    {
     "name": "stderr",
     "output_type": "stream",
     "text": [
      "Epoch 82: 100%|██████████| 3271/3271 [00:10<00:00, 312.16batch/s, acc=0.75, loss=0.203]\n"
     ]
    },
    {
     "name": "stdout",
     "output_type": "stream",
     "text": [
      "Epoch 82 validation: Cross-entropy=0.29006211639214774, Accuracy=0.7896907329559326\n"
     ]
    },
    {
     "name": "stderr",
     "output_type": "stream",
     "text": [
      "Epoch 83: 100%|██████████| 3271/3271 [00:10<00:00, 321.44batch/s, acc=0.75, loss=0.203]\n"
     ]
    },
    {
     "name": "stdout",
     "output_type": "stream",
     "text": [
      "Epoch 83 validation: Cross-entropy=0.2900170518413036, Accuracy=0.7903780341148376\n"
     ]
    },
    {
     "name": "stderr",
     "output_type": "stream",
     "text": [
      "Epoch 84: 100%|██████████| 3271/3271 [00:10<00:00, 315.87batch/s, acc=0.75, loss=0.203]\n"
     ]
    },
    {
     "name": "stdout",
     "output_type": "stream",
     "text": [
      "Epoch 84 validation: Cross-entropy=0.29003444219590974, Accuracy=0.7903780341148376\n"
     ]
    },
    {
     "name": "stderr",
     "output_type": "stream",
     "text": [
      "Epoch 85: 100%|██████████| 3271/3271 [00:11<00:00, 292.48batch/s, acc=0.75, loss=0.202]\n"
     ]
    },
    {
     "name": "stdout",
     "output_type": "stream",
     "text": [
      "Epoch 85 validation: Cross-entropy=0.29011512471600925, Accuracy=0.7917525768280029\n"
     ]
    },
    {
     "name": "stderr",
     "output_type": "stream",
     "text": [
      "Epoch 86: 100%|██████████| 3271/3271 [00:10<00:00, 316.11batch/s, acc=0.75, loss=0.202]\n"
     ]
    },
    {
     "name": "stdout",
     "output_type": "stream",
     "text": [
      "Epoch 86 validation: Cross-entropy=0.29023548681440764, Accuracy=0.7910652756690979\n"
     ]
    },
    {
     "name": "stderr",
     "output_type": "stream",
     "text": [
      "Epoch 87: 100%|██████████| 3271/3271 [00:10<00:00, 313.49batch/s, acc=0.75, loss=0.202]\n"
     ]
    },
    {
     "name": "stdout",
     "output_type": "stream",
     "text": [
      "Epoch 87 validation: Cross-entropy=0.29004266368571974, Accuracy=0.7917525768280029\n"
     ]
    },
    {
     "name": "stderr",
     "output_type": "stream",
     "text": [
      "Epoch 88: 100%|██████████| 3271/3271 [00:12<00:00, 269.06batch/s, acc=0.75, loss=0.202]\n"
     ]
    },
    {
     "name": "stdout",
     "output_type": "stream",
     "text": [
      "Epoch 88 validation: Cross-entropy=0.29021039932177334, Accuracy=0.7896907329559326\n"
     ]
    },
    {
     "name": "stderr",
     "output_type": "stream",
     "text": [
      "Epoch 89: 100%|██████████| 3271/3271 [00:10<00:00, 312.21batch/s, acc=0.75, loss=0.203]\n"
     ]
    },
    {
     "name": "stdout",
     "output_type": "stream",
     "text": [
      "Epoch 89 validation: Cross-entropy=0.2900252708820127, Accuracy=0.7903780341148376\n"
     ]
    },
    {
     "name": "stderr",
     "output_type": "stream",
     "text": [
      "Epoch 90: 100%|██████████| 3271/3271 [00:10<00:00, 314.81batch/s, acc=0.75, loss=0.203]\n"
     ]
    },
    {
     "name": "stdout",
     "output_type": "stream",
     "text": [
      "Epoch 90 validation: Cross-entropy=0.28978095319432545, Accuracy=0.7896907329559326\n"
     ]
    },
    {
     "name": "stderr",
     "output_type": "stream",
     "text": [
      "Epoch 91: 100%|██████████| 3271/3271 [00:10<00:00, 316.87batch/s, acc=0.75, loss=0.203]\n"
     ]
    },
    {
     "name": "stdout",
     "output_type": "stream",
     "text": [
      "Epoch 91 validation: Cross-entropy=0.28965395208200684, Accuracy=0.7903780341148376\n"
     ]
    },
    {
     "name": "stderr",
     "output_type": "stream",
     "text": [
      "Epoch 92: 100%|██████████| 3271/3271 [00:10<00:00, 308.86batch/s, acc=0.75, loss=0.203]\n"
     ]
    },
    {
     "name": "stdout",
     "output_type": "stream",
     "text": [
      "Epoch 92 validation: Cross-entropy=0.28974521711777323, Accuracy=0.7903780341148376\n"
     ]
    },
    {
     "name": "stderr",
     "output_type": "stream",
     "text": [
      "Epoch 93: 100%|██████████| 3271/3271 [00:10<00:00, 313.04batch/s, acc=0.75, loss=0.203]\n"
     ]
    },
    {
     "name": "stdout",
     "output_type": "stream",
     "text": [
      "Epoch 93 validation: Cross-entropy=0.2895959415960217, Accuracy=0.7917525768280029\n"
     ]
    },
    {
     "name": "stderr",
     "output_type": "stream",
     "text": [
      "Epoch 94: 100%|██████████| 3271/3271 [00:10<00:00, 312.14batch/s, acc=0.75, loss=0.203]\n"
     ]
    },
    {
     "name": "stdout",
     "output_type": "stream",
     "text": [
      "Epoch 94 validation: Cross-entropy=0.2895895542383177, Accuracy=0.7910652756690979\n"
     ]
    },
    {
     "name": "stderr",
     "output_type": "stream",
     "text": [
      "Epoch 95: 100%|██████████| 3271/3271 [00:10<00:00, 312.71batch/s, acc=0.75, loss=0.203]\n"
     ]
    },
    {
     "name": "stdout",
     "output_type": "stream",
     "text": [
      "Epoch 95 validation: Cross-entropy=0.2895205562537217, Accuracy=0.792439877986908\n"
     ]
    },
    {
     "name": "stderr",
     "output_type": "stream",
     "text": [
      "Epoch 96: 100%|██████████| 3271/3271 [00:17<00:00, 192.07batch/s, acc=0.75, loss=0.203]\n"
     ]
    },
    {
     "name": "stdout",
     "output_type": "stream",
     "text": [
      "Epoch 96 validation: Cross-entropy=0.28956062055985654, Accuracy=0.792439877986908\n"
     ]
    },
    {
     "name": "stderr",
     "output_type": "stream",
     "text": [
      "Epoch 97: 100%|██████████| 3271/3271 [00:10<00:00, 307.51batch/s, acc=0.75, loss=0.203]\n"
     ]
    },
    {
     "name": "stdout",
     "output_type": "stream",
     "text": [
      "Epoch 97 validation: Cross-entropy=0.2894336865723243, Accuracy=0.7917525768280029\n"
     ]
    },
    {
     "name": "stderr",
     "output_type": "stream",
     "text": [
      "Epoch 98: 100%|██████████| 3271/3271 [00:10<00:00, 299.49batch/s, acc=0.75, loss=0.203]\n"
     ]
    },
    {
     "name": "stdout",
     "output_type": "stream",
     "text": [
      "Epoch 98 validation: Cross-entropy=0.2895043731204675, Accuracy=0.7910652756690979\n"
     ]
    },
    {
     "name": "stderr",
     "output_type": "stream",
     "text": [
      "Epoch 99: 100%|██████████| 3271/3271 [00:12<00:00, 261.88batch/s, acc=0.75, loss=0.203]\n"
     ]
    },
    {
     "name": "stdout",
     "output_type": "stream",
     "text": [
      "Epoch 99 validation: Cross-entropy=0.2893473734834722, Accuracy=0.792439877986908\n"
     ]
    },
    {
     "data": {
      "text/plain": [
       "<All keys matched successfully>"
      ]
     },
     "execution_count": 50,
     "metadata": {},
     "output_type": "execute_result"
    }
   ],
   "source": [
    "#training\n",
    "'''\n",
    "n_epochs = 100\n",
    "batch_size = 5\n",
    " \n",
    "for epoch in range(n_epochs):\n",
    "    for i in range(0, len(X), batch_size):\n",
    "        Xbatch = X[i:i+batch_size]\n",
    "        y_pred = model(Xbatch)\n",
    "        ybatch = y_3[i:i+batch_size]\n",
    "        loss = loss_fn(y_pred, ybatch)\n",
    "        optimizer.zero_grad()\n",
    "        loss.backward()\n",
    "        optimizer.step()\n",
    "    print(f'Finished epoch {epoch}, latest loss {loss}')\n",
    "'''\n",
    "import copy\n",
    "import tqdm\n",
    "n_epochs = 100\n",
    "batch_size = 4\n",
    "batches_per_epoch = len(X_train) // batch_size\n",
    "\n",
    "best_acc = - np.inf   # init to negative infinity\n",
    "best_weights = None\n",
    "train_loss_hist = []\n",
    "train_acc_hist = []\n",
    "test_loss_hist = []\n",
    "test_acc_hist = []\n",
    "\n",
    "for epoch in range(n_epochs):\n",
    "    epoch_loss = []\n",
    "    epoch_acc = []\n",
    "    # set model in training mode and run through each batch\n",
    "    model.train()\n",
    "    with tqdm.trange(batches_per_epoch, unit=\"batch\", mininterval=0) as bar:\n",
    "        bar.set_description(f\"Epoch {epoch}\")\n",
    "        for i in bar:\n",
    "            # take a batch\n",
    "            start = i * batch_size\n",
    "            X_batch = X_train[start:start+batch_size]\n",
    "            y_batch = y_train[start:start+batch_size]\n",
    "            # forward pass\n",
    "            y_pred = model(X_batch)\n",
    "            loss = loss_fn(y_pred, y_batch)\n",
    "            # backward pass\n",
    "            optimizer.zero_grad()\n",
    "            loss.backward()\n",
    "            # update weights\n",
    "            optimizer.step()\n",
    "            # compute and store metrics\n",
    "            acc = (torch.argmax(y_pred, 1) == torch.argmax(y_batch, 1)).float().mean()\n",
    "            epoch_loss.append(float(loss))\n",
    "            epoch_acc.append(float(acc))\n",
    "            bar.set_postfix(\n",
    "                loss=float(loss),\n",
    "                acc=float(acc)\n",
    "            )\n",
    "        scheduler.step()\n",
    "    # set model in evaluation mode and run through the test set\n",
    "    model.eval()\n",
    "    y_pred = model(X_test)\n",
    "    ce = loss_fn(y_pred, y_test)\n",
    "    acc = (torch.argmax(y_pred, 1) == torch.argmax(y_test, 1)).float().mean()\n",
    "    ce = float(ce)\n",
    "    acc = float(acc)\n",
    "    train_loss_hist.append(np.mean(epoch_loss))\n",
    "    train_acc_hist.append(np.mean(epoch_acc))\n",
    "    test_loss_hist.append(ce)\n",
    "    test_acc_hist.append(acc)\n",
    "    if acc > best_acc:\n",
    "        best_acc = acc\n",
    "        best_weights = copy.deepcopy(model.state_dict())\n",
    "    print(f\"Epoch {epoch} validation: Cross-entropy={ce}, Accuracy={acc}\")\n",
    "    \n",
    "model.load_state_dict(best_weights)\n",
    "\n"
   ]
  },
  {
   "cell_type": "code",
   "execution_count": 51,
   "metadata": {},
   "outputs": [
    {
     "data": {
      "image/png": "[encoded data removed]",
      "text/plain": [
       "<Figure size 640x480 with 1 Axes>"
      ]
     },
     "metadata": {},
     "output_type": "display_data"
    },
    {
     "data": {
      "image/png": "[encoded data removed]",
      "text/plain": [
       "<Figure size 640x480 with 1 Axes>"
      ]
     },
     "metadata": {},
     "output_type": "display_data"
    }
   ],
   "source": [
    "plt.plot(train_loss_hist, label=\"train\")\n",
    "plt.plot(test_loss_hist, label=\"test\")\n",
    "plt.xlabel(\"epochs\")\n",
    "plt.ylabel(\"cross entropy\")\n",
    "plt.legend()\n",
    "plt.show()\n",
    "\n",
    "plt.plot(train_acc_hist, label=\"train\")\n",
    "plt.plot(test_acc_hist, label=\"test\")\n",
    "plt.xlabel(\"epochs\")\n",
    "plt.ylabel(\"accuracy\")\n",
    "plt.legend()\n",
    "plt.show()"
   ]
  },
  {
   "cell_type": "code",
   "execution_count": 53,
   "metadata": {},
   "outputs": [
    {
     "name": "stdout",
     "output_type": "stream",
     "text": [
      "Accuracy 0.7965635657310486\n",
      "Index(['Round score', 'Sig_Strikes_Attempted', 'Sig_Strikes_Attempted_Opp',\n",
      "       'Sig_Strikes_Landed', 'Sig_Strikes_Landed_Opp', 'KD', 'KD_Opp', 'TD',\n",
      "       'TD_Opp', 'Sub_Attempts', 'Sub_Attempts_Opp', 'Ctrl_Time',\n",
      "       'Ctrl_Time_Opp', 'Head_Strikes', 'Head_Strikes_Opp'],\n",
      "      dtype='object')\n",
      "[46.0, 66.0, 8.0, 32.0, 0.0, 0.0, 0.0, 0.0, 0.0, 0.0, 34.0, 0.0, 5.0, 17.0] => 3 (expected 3)\n",
      "[33.0, 28.0, 12.0, 9.0, 0.0, 0.0, 0.0, 0.0, 0.0, 0.0, 0.0, 0.0, 5.0, 5.0] => 1 (expected 1)\n",
      "[0.0, 15.0, 0.0, 10.0, 0.0, 0.0, 0.0, 0.0, 0.0, 0.0, 0.0, 292.0, 0.0, 10.0] => 3 (expected 3)\n",
      "[126.0, 72.0, 71.0, 35.0, 0.0, 0.0, 0.0, 0.0, 0.0, 0.0, 3.0, 14.0, 46.0, 27.0] => 1 (expected 1)\n",
      "[44.0, 21.0, 21.0, 5.0, 0.0, 0.0, 0.0, 0.0, 0.0, 0.0, 2.0, 54.0, 12.0, 4.0] => 1 (expected 1)\n",
      "[23.0, 2.0, 16.0, 0.0, 0.0, 0.0, 0.0, 0.0, 0.0, 1.0, 276.0, 1.0, 15.0, 0.0] => 1 (expected 1)\n",
      "[13.0, 17.0, 6.0, 10.0, 0.0, 0.0, 2.0, 0.0, 0.0, 1.0, 174.0, 111.0, 6.0, 10.0] => 3 (expected 1)\n",
      "[29.0, 32.0, 11.0, 18.0, 0.0, 0.0, 1.0, 0.0, 0.0, 0.0, 68.0, 0.0, 5.0, 5.0] => 3 (expected 3)\n",
      "[9.0, 17.0, 2.0, 14.0, 0.0, 0.0, 1.0, 0.0, 1.0, 0.0, 29.0, 184.0, 0.0, 11.0] => 3 (expected 3)\n",
      "[61.0, 56.0, 30.0, 19.0, 0.0, 0.0, 0.0, 0.0, 0.0, 0.0, 0.0, 18.0, 9.0, 16.0] => 1 (expected 3)\n",
      "[58.0, 15.0, 35.0, 6.0, 0.0, 0.0, 0.0, 1.0, 0.0, 1.0, 153.0, 13.0, 28.0, 5.0] => 2 (expected 1)\n",
      "[52.0, 52.0, 20.0, 8.0, 0.0, 0.0, 1.0, 0.0, 0.0, 0.0, 24.0, 0.0, 12.0, 5.0] => 1 (expected 1)\n",
      "[73.0, 70.0, 30.0, 33.0, 0.0, 0.0, 1.0, 0.0, 0.0, 1.0, 85.0, 20.0, 22.0, 21.0] => 1 (expected 1)\n",
      "[12.0, 30.0, 6.0, 18.0, 0.0, 0.0, 1.0, 0.0, 0.0, 0.0, 178.0, 53.0, 1.0, 1.0] => 3 (expected 1)\n",
      "[4.0, 1.0, 2.0, 1.0, 0.0, 0.0, 3.0, 0.0, 0.0, 1.0, 267.0, 19.0, 2.0, 1.0] => 1 (expected 3)\n"
     ]
    }
   ],
   "source": [
    "def most_likely(input): \n",
    "    idx = input.argmax(axis=1)\n",
    "    '''\n",
    "    out = np.zeros_like(input,dtype=float)\n",
    "    out[np.arange(input.shape[0]), idx] = 1\n",
    "    '''        \n",
    "    return idx\n",
    "\n",
    "\n",
    "with torch.no_grad():\n",
    "    y_pred = model(X_test)\n",
    "matches = sum(x == y for x, y in zip(most_likely(y_pred), most_likely(y_test)))\n",
    "accuracy = matches/len(y_test)\n",
    "print(f\"Accuracy {accuracy}\")\n",
    "\n",
    "predictions = most_likely(model(X_test))\n",
    "expectVals = most_likely(y_test)\n",
    "#print(predictions)\n",
    "print(rounds_df.columns)\n",
    "for i in range(15):\n",
    "    print('%s => %s (expected %s)' % (X_test[i].tolist(), predictions[i].tolist(), expectVals[i].tolist()))"
   ]
  },
  {
   "attachments": {},
   "cell_type": "markdown",
   "metadata": {},
   "source": [
    "As demonstrated, our initial estimation accuracy is generally acceptable at 80%. Our problem is unique because the Y values of round score for our training/test sets aren't necessarily correct and contain a bit of arbitrary nature due to the 'rampant' human error in UFC judging. Assuming something like 90% of judging rounds are publicly viewed as correct, an 80% or higher accuracy would be more than acceptable. The above data shows that much of the error lies in scoring close round between 1 <-> -1, 1 <-> 2, and -1 <-> -2. A problem we encounter could be class imbalance since the ration of 10-8's is much smaller than the ratio of 10-9's."
   ]
  },
  {
   "attachments": {},
   "cell_type": "markdown",
   "metadata": {},
   "source": []
  }
 ],
 "metadata": {
  "kernelspec": {
   "display_name": ".venv",
   "language": "python",
   "name": "python3"
  },
  "language_info": {
   "codemirror_mode": {
    "name": "ipython",
    "version": 3
   },
   "file_extension": ".py",
   "mimetype": "text/x-python",
   "name": "python",
   "nbconvert_exporter": "python",
   "pygments_lexer": "ipython3",
   "version": "3.11.3"
  },
  "orig_nbformat": 4
 },
 "nbformat": 4,
 "nbformat_minor": 2
}
